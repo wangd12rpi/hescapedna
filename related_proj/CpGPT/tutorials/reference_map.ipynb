{
 "cells": [
  {
   "cell_type": "markdown",
   "id": "19ea9c92",
   "metadata": {},
   "source": [
    "[![Open In Colab](https://colab.research.google.com/assets/colab-badge.svg)](https://colab.research.google.com/github/rsinghlab/pyaging/blob/main/tutorials/tutorial_cpgptgrimage3.ipynb) [![Open In nbviewer](https://img.shields.io/badge/View%20in-nbviewer-orange)](https://nbviewer.jupyter.org/github/rsinghlab/pyaging/blob/main/tutorials/tutorial_cpgptgrimage3.ipynb)"
   ]
  },
  {
   "cell_type": "markdown",
   "id": "c0fbbe22",
   "metadata": {
    "papermill": {
     "duration": 0.005095,
     "end_time": "2025-03-31T09:46:56.905323",
     "exception": false,
     "start_time": "2025-03-31T09:46:56.900228",
     "status": "completed"
    },
    "tags": [],
    "vscode": {
     "languageId": "plaintext"
    }
   },
   "source": [
    "# 🧬 ⚙️ CpGPT Reference Map Tutorial ⚙️ 🧬\n",
    "\n",
    "Welcome to the CpGPT Reference Map Tutorial! 👋 \n",
    "\n",
    "In this notebook, we'll walk you through how to map your data to a reference dataset for zero-shot label transfer.\n",
    "\n",
    "## Table of Contents\n",
    "\n",
    "0. [Read Quick Setup Tutorial](#0-read-quick-setup-tutorial)\n",
    "1. [Setup Environment](#1-setup-environment)\n",
    "2. [Download Target Data](#2-download-target-data)\n",
    "3. [Download Reference Data](#3-download-reference-data)\n",
    "4. [Load Model and Dependencies](#4-load-model-and-dependencies)\n",
    "5. [Prepare Data Objects](#5-prepare-data-objects)\n",
    "6. [Compute Sample Embeddings](#6-compute-sample-embeddings)\n",
    "7. [Map Target to Reference](#7-map-target-to-reference)"
   ]
  },
  {
   "cell_type": "markdown",
   "id": "c9548126",
   "metadata": {
    "papermill": {
     "duration": 0.004287,
     "end_time": "2025-03-31T09:46:56.914345",
     "exception": false,
     "start_time": "2025-03-31T09:46:56.910058",
     "status": "completed"
    },
    "tags": []
   },
   "source": [
    "## 0. Read Quick Setup Tutorial"
   ]
  },
  {
   "cell_type": "markdown",
   "id": "46327a71",
   "metadata": {
    "papermill": {
     "duration": 0.004218,
     "end_time": "2025-03-31T09:46:56.922894",
     "exception": false,
     "start_time": "2025-03-31T09:46:56.918676",
     "status": "completed"
    },
    "tags": []
   },
   "source": [
    "Before, going through this tutorial, please familiarize yourself with the [quick setup tutorial](https://github.com/lcamillo/CpGPT/blob/main/tutorials/quick_setup.ipynb)."
   ]
  },
  {
   "cell_type": "markdown",
   "id": "d4966e7b",
   "metadata": {
    "papermill": {
     "duration": 0.004234,
     "end_time": "2025-03-31T09:46:56.931413",
     "exception": false,
     "start_time": "2025-03-31T09:46:56.927179",
     "status": "completed"
    },
    "tags": []
   },
   "source": [
    "## 1. Setup Environment\n",
    "\n",
    "We'll import the necessary Python packages and set up our environment for CpGPT. We'll be using a mix of standard data science libraries and CpGPT-specific modules. We'll also set some important variables that will be used throughout the notebook. Pay attention to these as you may need to adjust them based on your specific setup and requirements."
   ]
  },
  {
   "cell_type": "code",
   "execution_count": 1,
   "id": "d73f9bda",
   "metadata": {
    "execution": {
     "iopub.execute_input": "2025-03-31T09:46:56.941492Z",
     "iopub.status.busy": "2025-03-31T09:46:56.941081Z",
     "iopub.status.idle": "2025-03-31T09:46:56.945145Z",
     "shell.execute_reply": "2025-03-31T09:46:56.944678Z"
    },
    "papermill": {
     "duration": 0.009909,
     "end_time": "2025-03-31T09:46:56.945906",
     "exception": false,
     "start_time": "2025-03-31T09:46:56.935997",
     "status": "completed"
    },
    "tags": []
   },
   "outputs": [],
   "source": [
    "# Random seed for reproducibility\n",
    "RANDOM_SEED = 42\n",
    "\n",
    "# Directory paths\n",
    "DEPENDENCIES_DIR = \"../dependencies\"\n",
    "LLM_DEPENDENCIES_DIR = DEPENDENCIES_DIR + \"/human\"\n",
    "DATA_DIR = \"../data\"\n",
    "TARGET_PROCESSED_DIR = \"../data/tutorials/processed/target_reference_map\"\n",
    "REFERENCE_PROCESSED_DIR = \"../data/tutorials/processed/reference_reference_map\"\n",
    "\n",
    "MODEL_NAME = \"small\"\n",
    "MODEL_CHECKPOINT_PATH = f\"../dependencies/model/weights/{MODEL_NAME}.ckpt\"\n",
    "MODEL_CONFIG_PATH = f\"../dependencies/model/config/{MODEL_NAME}.yaml\"\n",
    "MODEL_VOCAB_PATH = f\"../dependencies/model/vocab/{MODEL_NAME}.json\"\n",
    "\n",
    "TARGET_BETAS_PATH = \"../data/cpgcorpus/raw/GSE52238/GPL8490/betas/gse_betas.arrow\"\n",
    "TARGET_METADATA_PATH = \"../data/cpgcorpus/raw/GSE52238/GPL8490/metadata/metadata.arrow\"\n",
    "\n",
    "REFERENCE_BETAS_PATH = \"../data/altumage/raw/betas/betas.arrow\"\n",
    "REFERENCE_METADATA_PATH = \"../data/altumage/raw/metadata/metadata.arrow\"\n",
    "\n",
    "# The maximum context length to give to the model\n",
    "MAX_INPUT_LENGTH = 10_000 # you might wanna go higher hardware permitting"
   ]
  },
  {
   "cell_type": "markdown",
   "id": "107e02d2",
   "metadata": {
    "papermill": {
     "duration": 0.004296,
     "end_time": "2025-03-31T09:46:56.954551",
     "exception": false,
     "start_time": "2025-03-31T09:46:56.950255",
     "status": "completed"
    },
    "tags": []
   },
   "source": [
    "> **⚠️ Warning**\n",
    "> \n",
    "> It is recommended to have a GPU for inference as CPU might be slow.\n",
    "> \n",
    "> Reconstructing the methylome for a few hundred samples might take up to one hour on a CPU. ⌛\n",
    ">\n",
    "> This might be a great exercise in testing your patience."
   ]
  },
  {
   "cell_type": "markdown",
   "id": "974e26e7",
   "metadata": {
    "papermill": {
     "duration": 0.004292,
     "end_time": "2025-03-31T09:46:56.963100",
     "exception": false,
     "start_time": "2025-03-31T09:46:56.958808",
     "status": "completed"
    },
    "tags": []
   },
   "source": [
    "### 1.2 Import packages\n"
   ]
  },
  {
   "cell_type": "code",
   "execution_count": null,
   "id": "9c0ab299",
   "metadata": {
    "execution": {
     "iopub.execute_input": "2025-03-31T09:46:56.972288Z",
     "iopub.status.busy": "2025-03-31T09:46:56.972092Z",
     "iopub.status.idle": "2025-03-31T09:47:03.556135Z",
     "shell.execute_reply": "2025-03-31T09:47:03.555626Z"
    },
    "papermill": {
     "duration": 6.589622,
     "end_time": "2025-03-31T09:47:03.556954",
     "exception": false,
     "start_time": "2025-03-31T09:46:56.967332",
     "status": "completed"
    },
    "tags": []
   },
   "outputs": [
    {
     "name": "stderr",
     "output_type": "stream",
     "text": [
      "Seed set to 42\n"
     ]
    },
    {
     "data": {
      "text/plain": [
       "42"
      ]
     },
     "execution_count": 2,
     "metadata": {},
     "output_type": "execute_result"
    }
   ],
   "source": [
    "# Standard library imports\n",
    "import warnings\n",
    "import os\n",
    "import json\n",
    "\n",
    "warnings.simplefilter(action=\"ignore\", category=FutureWarning)\n",
    "\n",
    "# Plotting imports\n",
    "import gdown\n",
    "import torch\n",
    "import matplotlib.pyplot as plt\n",
    "import numpy as np\n",
    "import pandas as pd\n",
    "import pyaging as pya\n",
    "import seaborn as sns\n",
    "from tqdm.rich import tqdm\n",
    "import faiss\n",
    "\n",
    "# Lightning imports\n",
    "from lightning.pytorch import seed_everything\n",
    "\n",
    "# cpgpt-specific imports\n",
    "from cpgpt.data.components.cpgpt_datasaver import CpGPTDataSaver\n",
    "from cpgpt.data.cpgpt_datamodule import CpGPTDataModule\n",
    "from cpgpt.trainer.cpgpt_trainer import CpGPTTrainer\n",
    "from cpgpt.data.components.dna_llm_embedder import DNALLMEmbedder\n",
    "from cpgpt.data.components.illumina_methylation_prober import IlluminaMethylationProber\n",
    "from cpgpt.infer.cpgpt_inferencer import CpGPTInferencer\n",
    "from cpgpt.model.cpgpt_module import m_to_beta\n",
    "\n",
    "# Set random seed for reproducibility\n",
    "seed_everything(RANDOM_SEED, workers=True)\n",
    "try:\n",
    "    torch.backends.cudnn.deterministic = True\n",
    "    torch.backends.cudnn.benchmark = False\n",
    "except:\n",
    "    pass"
   ]
  },
  {
   "cell_type": "markdown",
   "id": "ca00d8db",
   "metadata": {
    "papermill": {
     "duration": 0.004402,
     "end_time": "2025-03-31T09:47:03.566152",
     "exception": false,
     "start_time": "2025-03-31T09:47:03.561750",
     "status": "completed"
    },
    "tags": []
   },
   "source": [
    "## 2. Download Target Data"
   ]
  },
  {
   "cell_type": "markdown",
   "id": "68ddcd70",
   "metadata": {
    "papermill": {
     "duration": 0.00437,
     "end_time": "2025-03-31T09:47:03.574896",
     "exception": false,
     "start_time": "2025-03-31T09:47:03.570526",
     "status": "completed"
    },
    "tags": []
   },
   "source": [
    "If you have your own data, please feel free to skip the following step but make sure it is saved in a .arrow format. Here, as an example target dataset, we'll use GSE52238, which contains methylation profiling data from a study on human somatic cell reprogramming. This dataset examines global DNA methylation changes during reprogramming of different somatic cell types (endoderm, mesoderm, and parthenogenetic germ cells) into iPSCs."
   ]
  },
  {
   "cell_type": "code",
   "execution_count": 3,
   "id": "608f10d0",
   "metadata": {
    "execution": {
     "iopub.execute_input": "2025-03-31T09:47:03.584602Z",
     "iopub.status.busy": "2025-03-31T09:47:03.584214Z",
     "iopub.status.idle": "2025-03-31T09:47:04.121930Z",
     "shell.execute_reply": "2025-03-31T09:47:04.121356Z"
    },
    "papermill": {
     "duration": 0.543485,
     "end_time": "2025-03-31T09:47:04.122718",
     "exception": false,
     "start_time": "2025-03-31T09:47:03.579233",
     "status": "completed"
    },
    "tags": []
   },
   "outputs": [
    {
     "name": "stdout",
     "output_type": "stream",
     "text": [
      "\u001b[1m\u001b[34mcpgpt\u001b[0m\u001b[1m\u001b[0m: \u001b[36mCpGPTInferencer\u001b[0m: \u001b[1mInitializing class CpGPTInferencer.\u001b[0m\n",
      "\u001b[1m\u001b[34mcpgpt\u001b[0m\u001b[1m\u001b[0m: \u001b[36mCpGPTInferencer\u001b[0m: \u001b[1mUsing device: cuda.\u001b[0m\n",
      "\u001b[1m\u001b[34mcpgpt\u001b[0m\u001b[1m\u001b[0m: \u001b[36mCpGPTInferencer\u001b[0m: \u001b[1mUsing dependencies directory: ../dependencies\u001b[0m\n",
      "\u001b[1m\u001b[34mcpgpt\u001b[0m\u001b[1m\u001b[0m: \u001b[36mCpGPTInferencer\u001b[0m: \u001b[1mUsing data directory: ../data\u001b[0m\n",
      "\u001b[1m\u001b[34mcpgpt\u001b[0m\u001b[1m\u001b[0m: \u001b[36mCpGPTInferencer\u001b[0m: \u001b[1mThere are 19 CpGPT models available such as age, age_cot, average_adultweight, etc.\u001b[0m\n",
      "\u001b[1m\u001b[34mcpgpt\u001b[0m\u001b[1m\u001b[0m: \u001b[36mCpGPTInferencer\u001b[0m: \u001b[1mThere are 2088 GSE datasets available such as GSE100184, GSE100208, GSE100209, etc.\u001b[0m\n",
      "\u001b[1m\u001b[34mcpgpt\u001b[0m\u001b[1m\u001b[0m: \u001b[36mCpGPTInferencer\u001b[0m: \u001b[1mDataset GSE52238 already exists at ../data/cpgcorpus/raw/GSE52238 (skipping download).\u001b[0m\n"
     ]
    }
   ],
   "source": [
    "# First let's declare the inferencer\n",
    "inferencer = CpGPTInferencer(dependencies_dir=DEPENDENCIES_DIR, data_dir=DATA_DIR)\n",
    "\n",
    "inferencer.download_cpgcorpus_dataset(\"GSE52238\")"
   ]
  },
  {
   "cell_type": "markdown",
   "id": "5392268d",
   "metadata": {
    "papermill": {
     "duration": 0.004898,
     "end_time": "2025-03-31T09:47:04.132646",
     "exception": false,
     "start_time": "2025-03-31T09:47:04.127748",
     "status": "completed"
    },
    "tags": []
   },
   "source": [
    "## 3. Download Reference Data"
   ]
  },
  {
   "cell_type": "markdown",
   "id": "9d2df538",
   "metadata": {
    "papermill": {
     "duration": 0.00727,
     "end_time": "2025-03-31T09:47:04.146296",
     "exception": false,
     "start_time": "2025-03-31T09:47:04.139026",
     "status": "completed"
    },
    "tags": []
   },
   "source": [
    "As an example, we will use the AltumAge dataset as reference but feel free to use another atlas."
   ]
  },
  {
   "cell_type": "markdown",
   "id": "31fc02c3",
   "metadata": {
    "papermill": {
     "duration": 0.00467,
     "end_time": "2025-03-31T09:47:04.156384",
     "exception": false,
     "start_time": "2025-03-31T09:47:04.151714",
     "status": "completed"
    },
    "tags": []
   },
   "source": [
    "### 3.1 Download AltumAge Reference\n",
    "\n"
   ]
  },
  {
   "cell_type": "code",
   "execution_count": 4,
   "id": "9d7b0d0b",
   "metadata": {
    "execution": {
     "iopub.execute_input": "2025-03-31T09:47:04.166698Z",
     "iopub.status.busy": "2025-03-31T09:47:04.166477Z",
     "iopub.status.idle": "2025-03-31T09:47:04.169670Z",
     "shell.execute_reply": "2025-03-31T09:47:04.169179Z"
    },
    "papermill": {
     "duration": 0.00945,
     "end_time": "2025-03-31T09:47:04.170487",
     "exception": false,
     "start_time": "2025-03-31T09:47:04.161037",
     "status": "completed"
    },
    "tags": []
   },
   "outputs": [],
   "source": [
    "# Download altumage data if not already downloaded\n",
    "if not os.path.exists(REFERENCE_BETAS_PATH):\n",
    "    url = (\n",
    "        \"https://drive.google.com/file/d/17iScHhjasi1qCL3JTte5bNaqlHV2gPQG/view?usp=share_link\"\n",
    "    )\n",
    "    gdown.download(url, output=REFERENCE_BETAS_PATH, fuzzy=True)\n",
    "\n",
    "# Download metadata if not already downloaded\n",
    "if not os.path.exists(REFERENCE_METADATA_PATH):\n",
    "    url = (\n",
    "        \"https://drive.google.com/file/d/1eyYzNNW6hhLZonkbV7xlhVefF23TSBJQ/view?usp=share_link\"\n",
    "    )\n",
    "    gdown.download(url, output=REFERENCE_METADATA_PATH, fuzzy=True)"
   ]
  },
  {
   "cell_type": "markdown",
   "id": "748ed7c4",
   "metadata": {
    "papermill": {
     "duration": 0.004714,
     "end_time": "2025-03-31T09:47:04.180021",
     "exception": false,
     "start_time": "2025-03-31T09:47:04.175307",
     "status": "completed"
    },
    "tags": []
   },
   "source": [
    "## 4. Load Model and Dependencies"
   ]
  },
  {
   "cell_type": "markdown",
   "id": "b2e2696e",
   "metadata": {
    "papermill": {
     "duration": 0.004647,
     "end_time": "2025-03-31T09:47:04.189334",
     "exception": false,
     "start_time": "2025-03-31T09:47:04.184687",
     "status": "completed"
    },
    "tags": []
   },
   "source": [
    "For reference mapping, we recommend using the `small` model. If compute resources permit, then it might be worth trying with a bigger context window or the `large` model."
   ]
  },
  {
   "cell_type": "markdown",
   "id": "6ddc6aae",
   "metadata": {
    "papermill": {
     "duration": 0.004652,
     "end_time": "2025-03-31T09:47:04.198681",
     "exception": false,
     "start_time": "2025-03-31T09:47:04.194029",
     "status": "completed"
    },
    "tags": []
   },
   "source": [
    "### 4.1 Download Checkpoint and Configuration Files"
   ]
  },
  {
   "cell_type": "code",
   "execution_count": 5,
   "id": "6ce3fb23",
   "metadata": {
    "execution": {
     "iopub.execute_input": "2025-03-31T09:47:04.208639Z",
     "iopub.status.busy": "2025-03-31T09:47:04.208395Z",
     "iopub.status.idle": "2025-03-31T09:47:04.239128Z",
     "shell.execute_reply": "2025-03-31T09:47:04.238609Z"
    },
    "papermill": {
     "duration": 0.036546,
     "end_time": "2025-03-31T09:47:04.239825",
     "exception": false,
     "start_time": "2025-03-31T09:47:04.203279",
     "status": "completed"
    },
    "tags": []
   },
   "outputs": [
    {
     "name": "stdout",
     "output_type": "stream",
     "text": [
      "\u001b[1m\u001b[34mcpgpt\u001b[0m\u001b[1m\u001b[0m: \u001b[36mCpGPTInferencer\u001b[0m: \u001b[1mModel checkpoint already exists at ../dependencies/model/weights/small.ckpt (skipping download).\u001b[0m\n",
      "\u001b[1m\u001b[34mcpgpt\u001b[0m\u001b[1m\u001b[0m: \u001b[36mCpGPTInferencer\u001b[0m: \u001b[1mModel config already exists at ../dependencies/model/config/small.yaml (skipping download).\u001b[0m\n",
      "\u001b[1m\u001b[34mcpgpt\u001b[0m\u001b[1m\u001b[0m: \u001b[36mCpGPTInferencer\u001b[0m: \u001b[33m\u001b[1mNo vocabulary file found for model 'small'.\u001b[0m\n",
      "\u001b[1m\u001b[34mcpgpt\u001b[0m\u001b[1m\u001b[0m: \u001b[36mCpGPTInferencer\u001b[0m: \u001b[1mSuccessfully downloaded model 'small'.\u001b[0m\n"
     ]
    }
   ],
   "source": [
    "# Download the checkpoint and configuration files\n",
    "inferencer.download_model(MODEL_NAME)"
   ]
  },
  {
   "cell_type": "markdown",
   "id": "163f6731",
   "metadata": {
    "papermill": {
     "duration": 0.004843,
     "end_time": "2025-03-31T09:47:04.249630",
     "exception": false,
     "start_time": "2025-03-31T09:47:04.244787",
     "status": "completed"
    },
    "tags": []
   },
   "source": [
    "### 4.2 Load Model"
   ]
  },
  {
   "cell_type": "code",
   "execution_count": 6,
   "id": "7f96b1d9",
   "metadata": {
    "execution": {
     "iopub.execute_input": "2025-03-31T09:47:04.260102Z",
     "iopub.status.busy": "2025-03-31T09:47:04.259782Z",
     "iopub.status.idle": "2025-03-31T09:47:04.487548Z",
     "shell.execute_reply": "2025-03-31T09:47:04.486991Z"
    },
    "papermill": {
     "duration": 0.233919,
     "end_time": "2025-03-31T09:47:04.488360",
     "exception": false,
     "start_time": "2025-03-31T09:47:04.254441",
     "status": "completed"
    },
    "tags": []
   },
   "outputs": [
    {
     "name": "stdout",
     "output_type": "stream",
     "text": [
      "\u001b[1m\u001b[34mcpgpt\u001b[0m\u001b[1m\u001b[0m: \u001b[36mCpGPTInferencer\u001b[0m: \u001b[1mLoaded CpGPT model config.\u001b[0m\n",
      "\u001b[1m\u001b[34mcpgpt\u001b[0m\u001b[1m\u001b[0m: \u001b[36mCpGPTInferencer\u001b[0m: \u001b[1mInstantiated CpGPT model from config.\u001b[0m\n",
      "\u001b[1m\u001b[34mcpgpt\u001b[0m\u001b[1m\u001b[0m: \u001b[36mCpGPTInferencer\u001b[0m: \u001b[1mUsing device: cuda.\u001b[0m\n",
      "\u001b[1m\u001b[34mcpgpt\u001b[0m\u001b[1m\u001b[0m: \u001b[36mCpGPTInferencer\u001b[0m: \u001b[1mLoading checkpoint from: ../dependencies/model/weights/small.ckpt\u001b[0m\n"
     ]
    },
    {
     "name": "stdout",
     "output_type": "stream",
     "text": [
      "\u001b[1m\u001b[34mcpgpt\u001b[0m\u001b[1m\u001b[0m: \u001b[36mCpGPTInferencer\u001b[0m: \u001b[1mCheckpoint loaded into the model.\u001b[0m\n"
     ]
    }
   ],
   "source": [
    "# Load the model configuration\n",
    "config = inferencer.load_cpgpt_config(MODEL_CONFIG_PATH)\n",
    "\n",
    "# Load the model weights\n",
    "model = inferencer.load_cpgpt_model(\n",
    "    config,\n",
    "    model_ckpt_path=MODEL_CHECKPOINT_PATH,\n",
    "    strict_load=True,\n",
    ")"
   ]
  },
  {
   "cell_type": "markdown",
   "id": "bf9feff1",
   "metadata": {},
   "source": [
    "### 4.3 Download Dependencies"
   ]
  },
  {
   "cell_type": "code",
   "execution_count": null,
   "id": "2f05e3cb",
   "metadata": {},
   "outputs": [],
   "source": [
    "inferencer.download_dependencies(species=\"human\")"
   ]
  },
  {
   "cell_type": "markdown",
   "id": "96f32ad6",
   "metadata": {
    "papermill": {
     "duration": 0.005003,
     "end_time": "2025-03-31T09:47:04.498618",
     "exception": false,
     "start_time": "2025-03-31T09:47:04.493615",
     "status": "completed"
    },
    "tags": []
   },
   "source": [
    "## 5. Prepare Data Objects"
   ]
  },
  {
   "cell_type": "markdown",
   "id": "4dbb17d8",
   "metadata": {
    "papermill": {
     "duration": 0.004932,
     "end_time": "2025-03-31T09:47:04.508645",
     "exception": false,
     "start_time": "2025-03-31T09:47:04.503713",
     "status": "completed"
    },
    "tags": []
   },
   "source": [
    "### 5.1 Declare Embedder and Prober"
   ]
  },
  {
   "cell_type": "markdown",
   "id": "c4d29b20",
   "metadata": {
    "papermill": {
     "duration": 0.005004,
     "end_time": "2025-03-31T09:47:04.518600",
     "exception": false,
     "start_time": "2025-03-31T09:47:04.513596",
     "status": "completed"
    },
    "tags": []
   },
   "source": [
    "In order to retrieve the sample embeddings, we need to memory-map the data. This is done by using the `CpGPTDataSaver` class. We first need to define the `DNALLMEmbedder` and `IlluminaMethylationProber` classes, which contain the information about the DNA LLM Embeddings and the conversion between Illumina array probes to genomic locations, respectively."
   ]
  },
  {
   "cell_type": "code",
   "execution_count": 7,
   "id": "25958258",
   "metadata": {
    "execution": {
     "iopub.execute_input": "2025-03-31T09:47:04.529316Z",
     "iopub.status.busy": "2025-03-31T09:47:04.529031Z",
     "iopub.status.idle": "2025-03-31T09:47:15.919094Z",
     "shell.execute_reply": "2025-03-31T09:47:15.918549Z"
    },
    "papermill": {
     "duration": 11.396311,
     "end_time": "2025-03-31T09:47:15.919844",
     "exception": false,
     "start_time": "2025-03-31T09:47:04.523533",
     "status": "completed"
    },
    "tags": []
   },
   "outputs": [
    {
     "name": "stdout",
     "output_type": "stream",
     "text": [
      "\u001b[1m\u001b[34mcpgpt\u001b[0m\u001b[1m\u001b[0m: \u001b[36mDNALLMEmbedder\u001b[0m: \u001b[1mInitializing class DNALLMEmbedder.\u001b[0m\n",
      "\u001b[1m\u001b[34mcpgpt\u001b[0m\u001b[1m\u001b[0m: \u001b[36mDNALLMEmbedder\u001b[0m: \u001b[1mGenome files will be stored under ../dependencies/human/genomes.\u001b[0m\n",
      "\u001b[1m\u001b[34mcpgpt\u001b[0m\u001b[1m\u001b[0m: \u001b[36mDNALLMEmbedder\u001b[0m: \u001b[1mDNA embeddings will be stored under ../dependencies/human/dna_embeddings and subdirectories.\u001b[0m\n",
      "\u001b[1m\u001b[34mcpgpt\u001b[0m\u001b[1m\u001b[0m: \u001b[36mDNALLMEmbedder\u001b[0m: \u001b[1mEnsembl metadata dictionary loaded successfully\u001b[0m\n"
     ]
    }
   ],
   "source": [
    "embedder = DNALLMEmbedder(dependencies_dir=LLM_DEPENDENCIES_DIR)"
   ]
  },
  {
   "cell_type": "code",
   "execution_count": 8,
   "id": "4d655c8f",
   "metadata": {
    "execution": {
     "iopub.execute_input": "2025-03-31T09:47:15.931727Z",
     "iopub.status.busy": "2025-03-31T09:47:15.931336Z",
     "iopub.status.idle": "2025-03-31T09:47:16.406092Z",
     "shell.execute_reply": "2025-03-31T09:47:16.405524Z"
    },
    "papermill": {
     "duration": 0.481207,
     "end_time": "2025-03-31T09:47:16.406869",
     "exception": false,
     "start_time": "2025-03-31T09:47:15.925662",
     "status": "completed"
    },
    "tags": []
   },
   "outputs": [
    {
     "name": "stdout",
     "output_type": "stream",
     "text": [
      "\u001b[1m\u001b[34mcpgpt\u001b[0m\u001b[1m\u001b[0m: \u001b[36mIlluminaMethylationProber\u001b[0m: \u001b[1mInitializing class IlluminaMethylationProber.\u001b[0m\n",
      "\u001b[1m\u001b[34mcpgpt\u001b[0m\u001b[1m\u001b[0m: \u001b[36mIlluminaMethylationProber\u001b[0m: \u001b[1mIllumina methylation manifest files will be stored under ../dependencies/human/manifests.\u001b[0m\n",
      "\u001b[1m\u001b[34mcpgpt\u001b[0m\u001b[1m\u001b[0m: \u001b[36mIlluminaMethylationProber\u001b[0m: \u001b[1mIllumina metadata dictionary loaded successfully.\u001b[0m\n"
     ]
    }
   ],
   "source": [
    "prober = IlluminaMethylationProber(dependencies_dir=LLM_DEPENDENCIES_DIR, embedder=embedder)"
   ]
  },
  {
   "cell_type": "markdown",
   "id": "06bae259",
   "metadata": {
    "papermill": {
     "duration": 0.033169,
     "end_time": "2025-03-31T09:47:16.445679",
     "exception": false,
     "start_time": "2025-03-31T09:47:16.412510",
     "status": "completed"
    },
    "tags": []
   },
   "source": [
    "### 5.2 Memory-Map Data"
   ]
  },
  {
   "cell_type": "code",
   "execution_count": 9,
   "id": "7b6f1516",
   "metadata": {
    "execution": {
     "iopub.execute_input": "2025-03-31T09:47:16.457082Z",
     "iopub.status.busy": "2025-03-31T09:47:16.456921Z",
     "iopub.status.idle": "2025-03-31T09:47:16.478389Z",
     "shell.execute_reply": "2025-03-31T09:47:16.477969Z"
    },
    "papermill": {
     "duration": 0.028039,
     "end_time": "2025-03-31T09:47:16.479126",
     "exception": false,
     "start_time": "2025-03-31T09:47:16.451087",
     "status": "completed"
    },
    "tags": []
   },
   "outputs": [
    {
     "name": "stdout",
     "output_type": "stream",
     "text": [
      "\u001b[1m\u001b[34mcpgpt\u001b[0m\u001b[1m\u001b[0m: \u001b[36mCpGPTDataSaver\u001b[0m: \u001b[1mInitializing class CpGPTDataSaver.\u001b[0m\n",
      "\u001b[1m\u001b[34mcpgpt\u001b[0m\u001b[1m\u001b[0m: \u001b[36mCpGPTDataSaver\u001b[0m: \u001b[1mDataset folders will be stored under ../data/tutorials/processed/target_reference_map.\u001b[0m\n",
      "\u001b[1m\u001b[34mcpgpt\u001b[0m\u001b[1m\u001b[0m: \u001b[36mCpGPTDataSaver\u001b[0m: \u001b[1mLoaded existing dataset metrics.\u001b[0m\n",
      "\u001b[1m\u001b[34mcpgpt\u001b[0m\u001b[1m\u001b[0m: \u001b[36mCpGPTDataSaver\u001b[0m: \u001b[1mLoaded existing genomic locations.\u001b[0m\n",
      "\u001b[1m\u001b[34mcpgpt\u001b[0m\u001b[1m\u001b[0m: \u001b[36mCpGPTDataSaver\u001b[0m: \u001b[1mStarting file processing.\u001b[0m\n",
      "\u001b[1m\u001b[34mcpgpt\u001b[0m\u001b[1m\u001b[0m: \u001b[36mCpGPTDataSaver\u001b[0m: \u001b[1m1 files already processed. Skipping those.\u001b[0m\n"
     ]
    }
   ],
   "source": [
    "# Define datasaver\n",
    "target_datasaver = CpGPTDataSaver(data_paths=TARGET_BETAS_PATH, processed_dir=TARGET_PROCESSED_DIR)\n",
    "\n",
    "# Process the file\n",
    "target_datasaver.process_files(prober, embedder)"
   ]
  },
  {
   "cell_type": "code",
   "execution_count": 10,
   "id": "e429ace2",
   "metadata": {
    "execution": {
     "iopub.execute_input": "2025-03-31T09:47:16.490973Z",
     "iopub.status.busy": "2025-03-31T09:47:16.490674Z",
     "iopub.status.idle": "2025-03-31T09:47:16.510611Z",
     "shell.execute_reply": "2025-03-31T09:47:16.510152Z"
    },
    "papermill": {
     "duration": 0.026689,
     "end_time": "2025-03-31T09:47:16.511304",
     "exception": false,
     "start_time": "2025-03-31T09:47:16.484615",
     "status": "completed"
    },
    "tags": []
   },
   "outputs": [
    {
     "name": "stdout",
     "output_type": "stream",
     "text": [
      "\u001b[1m\u001b[34mcpgpt\u001b[0m\u001b[1m\u001b[0m: \u001b[36mCpGPTDataSaver\u001b[0m: \u001b[1mInitializing class CpGPTDataSaver.\u001b[0m\n",
      "\u001b[1m\u001b[34mcpgpt\u001b[0m\u001b[1m\u001b[0m: \u001b[36mCpGPTDataSaver\u001b[0m: \u001b[1mDataset folders will be stored under ../data/tutorials/processed/reference_reference_map.\u001b[0m\n",
      "\u001b[1m\u001b[34mcpgpt\u001b[0m\u001b[1m\u001b[0m: \u001b[36mCpGPTDataSaver\u001b[0m: \u001b[1mLoaded existing dataset metrics.\u001b[0m\n",
      "\u001b[1m\u001b[34mcpgpt\u001b[0m\u001b[1m\u001b[0m: \u001b[36mCpGPTDataSaver\u001b[0m: \u001b[1mLoaded existing genomic locations.\u001b[0m\n",
      "\u001b[1m\u001b[34mcpgpt\u001b[0m\u001b[1m\u001b[0m: \u001b[36mCpGPTDataSaver\u001b[0m: \u001b[1mStarting file processing.\u001b[0m\n",
      "\u001b[1m\u001b[34mcpgpt\u001b[0m\u001b[1m\u001b[0m: \u001b[36mCpGPTDataSaver\u001b[0m: \u001b[1m1 files already processed. Skipping those.\u001b[0m\n"
     ]
    }
   ],
   "source": [
    "# Define datasaver\n",
    "reference_datasaver = CpGPTDataSaver(data_paths=REFERENCE_BETAS_PATH, processed_dir=REFERENCE_PROCESSED_DIR)\n",
    "\n",
    "# Process the file\n",
    "reference_datasaver.process_files(prober, embedder)"
   ]
  },
  {
   "cell_type": "markdown",
   "id": "d7c6a8fd",
   "metadata": {
    "papermill": {
     "duration": 0.005685,
     "end_time": "2025-03-31T09:47:16.522951",
     "exception": false,
     "start_time": "2025-03-31T09:47:16.517266",
     "status": "completed"
    },
    "tags": []
   },
   "source": [
    "### 5.3 Declare data modules"
   ]
  },
  {
   "cell_type": "markdown",
   "id": "47981f22",
   "metadata": {
    "papermill": {
     "duration": 0.005645,
     "end_time": "2025-03-31T09:47:16.534299",
     "exception": false,
     "start_time": "2025-03-31T09:47:16.528654",
     "status": "completed"
    },
    "tags": []
   },
   "source": [
    "Let's define two data modules: one for the target data and one for the reference data."
   ]
  },
  {
   "cell_type": "code",
   "execution_count": 11,
   "id": "61e64ea6",
   "metadata": {
    "execution": {
     "iopub.execute_input": "2025-03-31T09:47:16.546311Z",
     "iopub.status.busy": "2025-03-31T09:47:16.546147Z",
     "iopub.status.idle": "2025-03-31T09:47:27.450125Z",
     "shell.execute_reply": "2025-03-31T09:47:27.449670Z"
    },
    "papermill": {
     "duration": 10.910884,
     "end_time": "2025-03-31T09:47:27.450876",
     "exception": false,
     "start_time": "2025-03-31T09:47:16.539992",
     "status": "completed"
    },
    "tags": []
   },
   "outputs": [
    {
     "name": "stdout",
     "output_type": "stream",
     "text": [
      "\u001b[1m\u001b[34mcpgpt\u001b[0m\u001b[1m\u001b[0m: \u001b[36mDNALLMEmbedder\u001b[0m: \u001b[1mInitializing class DNALLMEmbedder.\u001b[0m\n",
      "\u001b[1m\u001b[34mcpgpt\u001b[0m\u001b[1m\u001b[0m: \u001b[36mDNALLMEmbedder\u001b[0m: \u001b[1mGenome files will be stored under ../dependencies/human/genomes.\u001b[0m\n",
      "\u001b[1m\u001b[34mcpgpt\u001b[0m\u001b[1m\u001b[0m: \u001b[36mDNALLMEmbedder\u001b[0m: \u001b[1mDNA embeddings will be stored under ../dependencies/human/dna_embeddings and subdirectories.\u001b[0m\n",
      "\u001b[1m\u001b[34mcpgpt\u001b[0m\u001b[1m\u001b[0m: \u001b[36mDNALLMEmbedder\u001b[0m: \u001b[1mEnsembl metadata dictionary loaded successfully\u001b[0m\n"
     ]
    }
   ],
   "source": [
    "# Define datamodule\n",
    "target_datamodule = CpGPTDataModule(\n",
    "    predict_dir=TARGET_PROCESSED_DIR,\n",
    "    dependencies_dir=LLM_DEPENDENCIES_DIR,\n",
    "    batch_size=1,\n",
    "    num_workers=0,\n",
    "    max_length=MAX_INPUT_LENGTH,\n",
    "    dna_llm=config.data.dna_llm,\n",
    "    dna_context_len=config.data.dna_context_len,\n",
    "    sorting_strategy=config.data.sorting_strategy,\n",
    "    pin_memory=False,\n",
    ")"
   ]
  },
  {
   "cell_type": "code",
   "execution_count": 12,
   "id": "37a8fd62",
   "metadata": {
    "execution": {
     "iopub.execute_input": "2025-03-31T09:47:27.463725Z",
     "iopub.status.busy": "2025-03-31T09:47:27.463561Z",
     "iopub.status.idle": "2025-03-31T09:47:38.458855Z",
     "shell.execute_reply": "2025-03-31T09:47:38.458390Z"
    },
    "papermill": {
     "duration": 11.00247,
     "end_time": "2025-03-31T09:47:38.459617",
     "exception": false,
     "start_time": "2025-03-31T09:47:27.457147",
     "status": "completed"
    },
    "tags": []
   },
   "outputs": [
    {
     "name": "stdout",
     "output_type": "stream",
     "text": [
      "\u001b[1m\u001b[34mcpgpt\u001b[0m\u001b[1m\u001b[0m: \u001b[36mDNALLMEmbedder\u001b[0m: \u001b[1mInitializing class DNALLMEmbedder.\u001b[0m\n",
      "\u001b[1m\u001b[34mcpgpt\u001b[0m\u001b[1m\u001b[0m: \u001b[36mDNALLMEmbedder\u001b[0m: \u001b[1mGenome files will be stored under ../dependencies/human/genomes.\u001b[0m\n",
      "\u001b[1m\u001b[34mcpgpt\u001b[0m\u001b[1m\u001b[0m: \u001b[36mDNALLMEmbedder\u001b[0m: \u001b[1mDNA embeddings will be stored under ../dependencies/human/dna_embeddings and subdirectories.\u001b[0m\n",
      "\u001b[1m\u001b[34mcpgpt\u001b[0m\u001b[1m\u001b[0m: \u001b[36mDNALLMEmbedder\u001b[0m: \u001b[1mEnsembl metadata dictionary loaded successfully\u001b[0m\n"
     ]
    }
   ],
   "source": [
    "# Define datamodule\n",
    "reference_datamodule = CpGPTDataModule(\n",
    "    predict_dir=REFERENCE_PROCESSED_DIR,\n",
    "    dependencies_dir=LLM_DEPENDENCIES_DIR,\n",
    "    batch_size=1,\n",
    "    num_workers=0,\n",
    "    max_length=MAX_INPUT_LENGTH,\n",
    "    dna_llm=config.data.dna_llm,\n",
    "    dna_context_len=config.data.dna_context_len,\n",
    "    sorting_strategy=config.data.sorting_strategy,\n",
    "    pin_memory=False,\n",
    ")"
   ]
  },
  {
   "cell_type": "markdown",
   "id": "0909773a",
   "metadata": {
    "papermill": {
     "duration": 0.006123,
     "end_time": "2025-03-31T09:47:38.472302",
     "exception": false,
     "start_time": "2025-03-31T09:47:38.466179",
     "status": "completed"
    },
    "tags": []
   },
   "source": [
    "## 6. Compute Sample Embeddings"
   ]
  },
  {
   "cell_type": "markdown",
   "id": "5c9c3b8f",
   "metadata": {
    "papermill": {
     "duration": 0.006032,
     "end_time": "2025-03-31T09:47:38.484506",
     "exception": false,
     "start_time": "2025-03-31T09:47:38.478474",
     "status": "completed"
    },
    "tags": []
   },
   "source": [
    "### 6.1 Declare Trainer"
   ]
  },
  {
   "cell_type": "markdown",
   "id": "84e46211",
   "metadata": {
    "papermill": {
     "duration": 0.006033,
     "end_time": "2025-03-31T09:47:38.496656",
     "exception": false,
     "start_time": "2025-03-31T09:47:38.490623",
     "status": "completed"
    },
    "tags": []
   },
   "source": [
    "Given all models were trained under mixed precision, we'll use the `precision=\"16-mixed\"` argument."
   ]
  },
  {
   "cell_type": "code",
   "execution_count": 13,
   "id": "85e45335",
   "metadata": {
    "execution": {
     "iopub.execute_input": "2025-03-31T09:47:38.509682Z",
     "iopub.status.busy": "2025-03-31T09:47:38.509296Z",
     "iopub.status.idle": "2025-03-31T09:47:38.543734Z",
     "shell.execute_reply": "2025-03-31T09:47:38.543291Z"
    },
    "papermill": {
     "duration": 0.041764,
     "end_time": "2025-03-31T09:47:38.544478",
     "exception": false,
     "start_time": "2025-03-31T09:47:38.502714",
     "status": "completed"
    },
    "tags": []
   },
   "outputs": [
    {
     "name": "stderr",
     "output_type": "stream",
     "text": [
      "Using 16bit Automatic Mixed Precision (AMP)\n",
      "You are using the plain ModelCheckpoint callback. Consider using LitModelCheckpoint which with seamless uploading to Model registry.\n",
      "GPU available: True (cuda), used: True\n",
      "TPU available: False, using: 0 TPU cores\n",
      "HPU available: False, using: 0 HPUs\n"
     ]
    }
   ],
   "source": [
    "trainer = CpGPTTrainer(precision=\"16-mixed\")"
   ]
  },
  {
   "cell_type": "markdown",
   "id": "6c8f7f7e",
   "metadata": {
    "papermill": {
     "duration": 0.006249,
     "end_time": "2025-03-31T09:47:38.556896",
     "exception": false,
     "start_time": "2025-03-31T09:47:38.550647",
     "status": "completed"
    },
    "tags": []
   },
   "source": [
    "### 6.2 Get Sample Embeddings"
   ]
  },
  {
   "cell_type": "code",
   "execution_count": 14,
   "id": "7111b26b",
   "metadata": {
    "execution": {
     "iopub.execute_input": "2025-03-31T09:47:38.570391Z",
     "iopub.status.busy": "2025-03-31T09:47:38.569946Z",
     "iopub.status.idle": "2025-03-31T09:47:41.671896Z",
     "shell.execute_reply": "2025-03-31T09:47:41.671452Z"
    },
    "papermill": {
     "duration": 3.109451,
     "end_time": "2025-03-31T09:47:41.672639",
     "exception": false,
     "start_time": "2025-03-31T09:47:38.563188",
     "status": "completed"
    },
    "tags": []
   },
   "outputs": [
    {
     "name": "stderr",
     "output_type": "stream",
     "text": [
      "You are using a CUDA device ('NVIDIA A10G') that has Tensor Cores. To properly utilize them, you should set `torch.set_float32_matmul_precision('medium' | 'high')` which will trade-off precision for performance. For more details, read https://pytorch.org/docs/stable/generated/torch.set_float32_matmul_precision.html#torch.set_float32_matmul_precision\n"
     ]
    },
    {
     "name": "stdout",
     "output_type": "stream",
     "text": [
      "\u001b[1m\u001b[34mcpgpt\u001b[0m\u001b[1m\u001b[0m: \u001b[36mCpGPTDataset\u001b[0m: \u001b[1mInitializing class CpGPTDataset.\u001b[0m\n",
      "\u001b[1m\u001b[34mcpgpt\u001b[0m\u001b[1m\u001b[0m: \u001b[36mCpGPTDataset\u001b[0m: \u001b[1mLoaded existing dataset metrics.\u001b[0m\n"
     ]
    },
    {
     "name": "stderr",
     "output_type": "stream",
     "text": [
      "LOCAL_RANK: 0 - CUDA_VISIBLE_DEVICES: [0]\n"
     ]
    },
    {
     "data": {
      "application/vnd.jupyter.widget-view+json": {
       "model_id": "a89e9158f17d46d28b80ab693445e944",
       "version_major": 2,
       "version_minor": 0
      },
      "text/plain": [
       "Output()"
      ]
     },
     "metadata": {},
     "output_type": "display_data"
    },
    {
     "name": "stderr",
     "output_type": "stream",
     "text": [
      "/data/miniforge3/envs/cpgpt/lib/python3.12/site-packages/lightning/pytorch/trainer/connectors/data_connector.py:425: The 'predict_dataloader' does not have many workers which may be a bottleneck. Consider increasing the value of the `num_workers` argument` to `num_workers=31` in the `DataLoader` to improve performance.\n"
     ]
    },
    {
     "data": {
      "text/html": [
       "<pre style=\"white-space:pre;overflow-x:auto;line-height:normal;font-family:Menlo,'DejaVu Sans Mono',consolas,'Courier New',monospace\"></pre>\n"
      ],
      "text/plain": []
     },
     "metadata": {},
     "output_type": "display_data"
    }
   ],
   "source": [
    "# Get the target sample embeddings\n",
    "target_sample_embeddings = trainer.predict(\n",
    "    model=model,\n",
    "    datamodule=target_datamodule,\n",
    "    predict_mode=\"forward\",\n",
    "    return_keys=[\"sample_embedding\"]\n",
    ")\n",
    "\n",
    "target_sample_embeddings = target_sample_embeddings['sample_embedding']"
   ]
  },
  {
   "cell_type": "markdown",
   "id": "0cb7e93d",
   "metadata": {
    "papermill": {
     "duration": 0.006462,
     "end_time": "2025-03-31T09:47:41.686086",
     "exception": false,
     "start_time": "2025-03-31T09:47:41.679624",
     "status": "completed"
    },
    "tags": []
   },
   "source": [
    "Dependending on how large the reference dataset is, it might take a while to run the following. Please be patient."
   ]
  },
  {
   "cell_type": "code",
   "execution_count": 15,
   "id": "df96c1b3",
   "metadata": {
    "execution": {
     "iopub.execute_input": "2025-03-31T09:47:41.714920Z",
     "iopub.status.busy": "2025-03-31T09:47:41.714789Z",
     "iopub.status.idle": "2025-03-31T09:47:41.722257Z",
     "shell.execute_reply": "2025-03-31T09:47:41.721823Z"
    },
    "papermill": {
     "duration": 0.03039,
     "end_time": "2025-03-31T09:47:41.722964",
     "exception": false,
     "start_time": "2025-03-31T09:47:41.692574",
     "status": "completed"
    },
    "tags": []
   },
   "outputs": [],
   "source": [
    "reference_embeddings_path = REFERENCE_PROCESSED_DIR + \"/reference_sample_embeddings.pt\"\n",
    "\n",
    "if os.path.exists(reference_embeddings_path):\n",
    "    reference_sample_embeddings = torch.load(reference_embeddings_path)\n",
    "else:\n",
    "    reference_sample_embeddings = trainer.predict(\n",
    "        model=model,\n",
    "        datamodule=reference_datamodule,\n",
    "        predict_mode=\"forward\",\n",
    "        return_keys=[\"sample_embedding\"]\n",
    "    )\n",
    "\n",
    "    reference_sample_embeddings = reference_sample_embeddings['sample_embedding']\n",
    "\n",
    "    # Save the embeddings for future use\n",
    "    torch.save(reference_sample_embeddings, reference_embeddings_path)"
   ]
  },
  {
   "cell_type": "markdown",
   "id": "5dca7c27",
   "metadata": {
    "papermill": {
     "duration": 0.006358,
     "end_time": "2025-03-31T09:47:41.735816",
     "exception": false,
     "start_time": "2025-03-31T09:47:41.729458",
     "status": "completed"
    },
    "tags": []
   },
   "source": [
    "## 7. Map Target to Reference"
   ]
  },
  {
   "cell_type": "markdown",
   "id": "b776049b",
   "metadata": {
    "papermill": {
     "duration": 0.006399,
     "end_time": "2025-03-31T09:47:41.748650",
     "exception": false,
     "start_time": "2025-03-31T09:47:41.742251",
     "status": "completed"
    },
    "tags": []
   },
   "source": [
    "### 7.1 Load Metadata"
   ]
  },
  {
   "cell_type": "code",
   "execution_count": 41,
   "id": "7312541d",
   "metadata": {
    "execution": {
     "iopub.execute_input": "2025-03-31T09:47:41.762070Z",
     "iopub.status.busy": "2025-03-31T09:47:41.761920Z",
     "iopub.status.idle": "2025-03-31T09:47:41.784082Z",
     "shell.execute_reply": "2025-03-31T09:47:41.783651Z"
    },
    "papermill": {
     "duration": 0.029778,
     "end_time": "2025-03-31T09:47:41.784815",
     "exception": false,
     "start_time": "2025-03-31T09:47:41.755037",
     "status": "completed"
    },
    "tags": []
   },
   "outputs": [
    {
     "data": {
      "text/html": [
       "<div>\n",
       "<style scoped>\n",
       "    .dataframe tbody tr th:only-of-type {\n",
       "        vertical-align: middle;\n",
       "    }\n",
       "\n",
       "    .dataframe tbody tr th {\n",
       "        vertical-align: top;\n",
       "    }\n",
       "\n",
       "    .dataframe thead th {\n",
       "        text-align: right;\n",
       "    }\n",
       "</style>\n",
       "<table border=\"1\" class=\"dataframe\">\n",
       "  <thead>\n",
       "    <tr style=\"text-align: right;\">\n",
       "      <th></th>\n",
       "      <th>GSM_ID</th>\n",
       "      <th>title</th>\n",
       "      <th>geo_accession</th>\n",
       "      <th>status</th>\n",
       "      <th>submission_date</th>\n",
       "      <th>last_update_date</th>\n",
       "      <th>type</th>\n",
       "      <th>channel_count</th>\n",
       "      <th>source_name_ch1</th>\n",
       "      <th>organism_ch1</th>\n",
       "      <th>...</th>\n",
       "      <th>contact_institute</th>\n",
       "      <th>contact_address</th>\n",
       "      <th>contact_city</th>\n",
       "      <th>contact_zip/postal_code</th>\n",
       "      <th>contact_country</th>\n",
       "      <th>supplementary_file</th>\n",
       "      <th>data_row_count</th>\n",
       "      <th>cell type:ch1</th>\n",
       "      <th>sample id:ch1</th>\n",
       "      <th>source of cell:ch1</th>\n",
       "    </tr>\n",
       "    <tr>\n",
       "      <th>title</th>\n",
       "      <th></th>\n",
       "      <th></th>\n",
       "      <th></th>\n",
       "      <th></th>\n",
       "      <th></th>\n",
       "      <th></th>\n",
       "      <th></th>\n",
       "      <th></th>\n",
       "      <th></th>\n",
       "      <th></th>\n",
       "      <th></th>\n",
       "      <th></th>\n",
       "      <th></th>\n",
       "      <th></th>\n",
       "      <th></th>\n",
       "      <th></th>\n",
       "      <th></th>\n",
       "      <th></th>\n",
       "      <th></th>\n",
       "      <th></th>\n",
       "      <th></th>\n",
       "    </tr>\n",
       "  </thead>\n",
       "  <tbody>\n",
       "    <tr>\n",
       "      <th>Human embryonic stem cell H9</th>\n",
       "      <td>GSM1261682</td>\n",
       "      <td>Human embryonic stem cell H9</td>\n",
       "      <td>GSM1261682</td>\n",
       "      <td>Public on May 01 2014</td>\n",
       "      <td>Nov 08 2013</td>\n",
       "      <td>May 01 2014</td>\n",
       "      <td>genomic</td>\n",
       "      <td>1</td>\n",
       "      <td>Embryonic stem cells</td>\n",
       "      <td>Homo sapiens</td>\n",
       "      <td>...</td>\n",
       "      <td>The Hebrew University of Jerusalem</td>\n",
       "      <td>Givat Ram</td>\n",
       "      <td>Jerusalem</td>\n",
       "      <td>91904</td>\n",
       "      <td>Israel</td>\n",
       "      <td>NONE</td>\n",
       "      <td>27578</td>\n",
       "      <td>embryonic stem cell (H9)</td>\n",
       "      <td>SAMPLE 1</td>\n",
       "      <td>ICM</td>\n",
       "    </tr>\n",
       "    <tr>\n",
       "      <th>Beta cell from human islet 1</th>\n",
       "      <td>GSM1261683</td>\n",
       "      <td>Beta cell from human islet 1</td>\n",
       "      <td>GSM1261683</td>\n",
       "      <td>Public on May 01 2014</td>\n",
       "      <td>Nov 08 2013</td>\n",
       "      <td>May 01 2014</td>\n",
       "      <td>genomic</td>\n",
       "      <td>1</td>\n",
       "      <td>human islets</td>\n",
       "      <td>Homo sapiens</td>\n",
       "      <td>...</td>\n",
       "      <td>The Hebrew University of Jerusalem</td>\n",
       "      <td>Givat Ram</td>\n",
       "      <td>Jerusalem</td>\n",
       "      <td>91904</td>\n",
       "      <td>Israel</td>\n",
       "      <td>NONE</td>\n",
       "      <td>27578</td>\n",
       "      <td>Beta cell</td>\n",
       "      <td>SAMPLE 2</td>\n",
       "      <td>Pancreatic islet</td>\n",
       "    </tr>\n",
       "    <tr>\n",
       "      <th>Beta cell from human islet 2</th>\n",
       "      <td>GSM1261684</td>\n",
       "      <td>Beta cell from human islet 2</td>\n",
       "      <td>GSM1261684</td>\n",
       "      <td>Public on May 01 2014</td>\n",
       "      <td>Nov 08 2013</td>\n",
       "      <td>May 01 2014</td>\n",
       "      <td>genomic</td>\n",
       "      <td>1</td>\n",
       "      <td>human islets</td>\n",
       "      <td>Homo sapiens</td>\n",
       "      <td>...</td>\n",
       "      <td>The Hebrew University of Jerusalem</td>\n",
       "      <td>Givat Ram</td>\n",
       "      <td>Jerusalem</td>\n",
       "      <td>91904</td>\n",
       "      <td>Israel</td>\n",
       "      <td>NONE</td>\n",
       "      <td>27578</td>\n",
       "      <td>Beta cell</td>\n",
       "      <td>SAMPLE 3</td>\n",
       "      <td>Pancreatic islet</td>\n",
       "    </tr>\n",
       "    <tr>\n",
       "      <th>Reprogrammed beta cell 1</th>\n",
       "      <td>GSM1261685</td>\n",
       "      <td>Reprogrammed beta cell 1</td>\n",
       "      <td>GSM1261685</td>\n",
       "      <td>Public on May 01 2014</td>\n",
       "      <td>Nov 08 2013</td>\n",
       "      <td>May 01 2014</td>\n",
       "      <td>genomic</td>\n",
       "      <td>1</td>\n",
       "      <td>Reprogrammed beta cell</td>\n",
       "      <td>Homo sapiens</td>\n",
       "      <td>...</td>\n",
       "      <td>The Hebrew University of Jerusalem</td>\n",
       "      <td>Givat Ram</td>\n",
       "      <td>Jerusalem</td>\n",
       "      <td>91904</td>\n",
       "      <td>Israel</td>\n",
       "      <td>NONE</td>\n",
       "      <td>27578</td>\n",
       "      <td>reprogrammed beta cell</td>\n",
       "      <td>SAMPLE 4</td>\n",
       "      <td>Reprogrammed from SAMPLE 2</td>\n",
       "    </tr>\n",
       "    <tr>\n",
       "      <th>Reprogrammed beta cell 2</th>\n",
       "      <td>GSM1261686</td>\n",
       "      <td>Reprogrammed beta cell 2</td>\n",
       "      <td>GSM1261686</td>\n",
       "      <td>Public on May 01 2014</td>\n",
       "      <td>Nov 08 2013</td>\n",
       "      <td>May 01 2014</td>\n",
       "      <td>genomic</td>\n",
       "      <td>1</td>\n",
       "      <td>Reprogrammed beta cell</td>\n",
       "      <td>Homo sapiens</td>\n",
       "      <td>...</td>\n",
       "      <td>The Hebrew University of Jerusalem</td>\n",
       "      <td>Givat Ram</td>\n",
       "      <td>Jerusalem</td>\n",
       "      <td>91904</td>\n",
       "      <td>Israel</td>\n",
       "      <td>NONE</td>\n",
       "      <td>27578</td>\n",
       "      <td>reprogrammed beta cell</td>\n",
       "      <td>SAMPLE 5</td>\n",
       "      <td>Reprogrammed from SAMPLE 3</td>\n",
       "    </tr>\n",
       "  </tbody>\n",
       "</table>\n",
       "<p>5 rows × 38 columns</p>\n",
       "</div>"
      ],
      "text/plain": [
       "                                  GSM_ID                         title  \\\n",
       "title                                                                    \n",
       "Human embryonic stem cell H9  GSM1261682  Human embryonic stem cell H9   \n",
       "Beta cell from human islet 1  GSM1261683  Beta cell from human islet 1   \n",
       "Beta cell from human islet 2  GSM1261684  Beta cell from human islet 2   \n",
       "Reprogrammed beta cell 1      GSM1261685      Reprogrammed beta cell 1   \n",
       "Reprogrammed beta cell 2      GSM1261686      Reprogrammed beta cell 2   \n",
       "\n",
       "                             geo_accession                 status  \\\n",
       "title                                                               \n",
       "Human embryonic stem cell H9    GSM1261682  Public on May 01 2014   \n",
       "Beta cell from human islet 1    GSM1261683  Public on May 01 2014   \n",
       "Beta cell from human islet 2    GSM1261684  Public on May 01 2014   \n",
       "Reprogrammed beta cell 1        GSM1261685  Public on May 01 2014   \n",
       "Reprogrammed beta cell 2        GSM1261686  Public on May 01 2014   \n",
       "\n",
       "                             submission_date last_update_date     type  \\\n",
       "title                                                                    \n",
       "Human embryonic stem cell H9     Nov 08 2013      May 01 2014  genomic   \n",
       "Beta cell from human islet 1     Nov 08 2013      May 01 2014  genomic   \n",
       "Beta cell from human islet 2     Nov 08 2013      May 01 2014  genomic   \n",
       "Reprogrammed beta cell 1         Nov 08 2013      May 01 2014  genomic   \n",
       "Reprogrammed beta cell 2         Nov 08 2013      May 01 2014  genomic   \n",
       "\n",
       "                             channel_count         source_name_ch1  \\\n",
       "title                                                                \n",
       "Human embryonic stem cell H9             1    Embryonic stem cells   \n",
       "Beta cell from human islet 1             1            human islets   \n",
       "Beta cell from human islet 2             1            human islets   \n",
       "Reprogrammed beta cell 1                 1  Reprogrammed beta cell   \n",
       "Reprogrammed beta cell 2                 1  Reprogrammed beta cell   \n",
       "\n",
       "                              organism_ch1  ...  \\\n",
       "title                                       ...   \n",
       "Human embryonic stem cell H9  Homo sapiens  ...   \n",
       "Beta cell from human islet 1  Homo sapiens  ...   \n",
       "Beta cell from human islet 2  Homo sapiens  ...   \n",
       "Reprogrammed beta cell 1      Homo sapiens  ...   \n",
       "Reprogrammed beta cell 2      Homo sapiens  ...   \n",
       "\n",
       "                                               contact_institute  \\\n",
       "title                                                              \n",
       "Human embryonic stem cell H9  The Hebrew University of Jerusalem   \n",
       "Beta cell from human islet 1  The Hebrew University of Jerusalem   \n",
       "Beta cell from human islet 2  The Hebrew University of Jerusalem   \n",
       "Reprogrammed beta cell 1      The Hebrew University of Jerusalem   \n",
       "Reprogrammed beta cell 2      The Hebrew University of Jerusalem   \n",
       "\n",
       "                             contact_address contact_city  \\\n",
       "title                                                       \n",
       "Human embryonic stem cell H9       Givat Ram    Jerusalem   \n",
       "Beta cell from human islet 1       Givat Ram    Jerusalem   \n",
       "Beta cell from human islet 2       Givat Ram    Jerusalem   \n",
       "Reprogrammed beta cell 1           Givat Ram    Jerusalem   \n",
       "Reprogrammed beta cell 2           Givat Ram    Jerusalem   \n",
       "\n",
       "                             contact_zip/postal_code contact_country  \\\n",
       "title                                                                  \n",
       "Human embryonic stem cell H9                   91904          Israel   \n",
       "Beta cell from human islet 1                   91904          Israel   \n",
       "Beta cell from human islet 2                   91904          Israel   \n",
       "Reprogrammed beta cell 1                       91904          Israel   \n",
       "Reprogrammed beta cell 2                       91904          Israel   \n",
       "\n",
       "                             supplementary_file data_row_count  \\\n",
       "title                                                            \n",
       "Human embryonic stem cell H9               NONE          27578   \n",
       "Beta cell from human islet 1               NONE          27578   \n",
       "Beta cell from human islet 2               NONE          27578   \n",
       "Reprogrammed beta cell 1                   NONE          27578   \n",
       "Reprogrammed beta cell 2                   NONE          27578   \n",
       "\n",
       "                                         cell type:ch1 sample id:ch1  \\\n",
       "title                                                                  \n",
       "Human embryonic stem cell H9  embryonic stem cell (H9)      SAMPLE 1   \n",
       "Beta cell from human islet 1                 Beta cell      SAMPLE 2   \n",
       "Beta cell from human islet 2                 Beta cell      SAMPLE 3   \n",
       "Reprogrammed beta cell 1        reprogrammed beta cell      SAMPLE 4   \n",
       "Reprogrammed beta cell 2        reprogrammed beta cell      SAMPLE 5   \n",
       "\n",
       "                                      source of cell:ch1  \n",
       "title                                                     \n",
       "Human embryonic stem cell H9                         ICM  \n",
       "Beta cell from human islet 1            Pancreatic islet  \n",
       "Beta cell from human islet 2            Pancreatic islet  \n",
       "Reprogrammed beta cell 1      Reprogrammed from SAMPLE 2  \n",
       "Reprogrammed beta cell 2      Reprogrammed from SAMPLE 3  \n",
       "\n",
       "[5 rows x 38 columns]"
      ]
     },
     "execution_count": 41,
     "metadata": {},
     "output_type": "execute_result"
    }
   ],
   "source": [
    "target_metadata_df = pd.read_feather(TARGET_METADATA_PATH)\n",
    "target_metadata_df.index = target_metadata_df['title']\n",
    "\n",
    "target_metadata_df.head()"
   ]
  },
  {
   "cell_type": "code",
   "execution_count": 17,
   "id": "7d2aa9b6",
   "metadata": {
    "execution": {
     "iopub.execute_input": "2025-03-31T09:47:41.812644Z",
     "iopub.status.busy": "2025-03-31T09:47:41.812330Z",
     "iopub.status.idle": "2025-03-31T09:47:41.827370Z",
     "shell.execute_reply": "2025-03-31T09:47:41.826947Z"
    },
    "papermill": {
     "duration": 0.022943,
     "end_time": "2025-03-31T09:47:41.828106",
     "exception": false,
     "start_time": "2025-03-31T09:47:41.805163",
     "status": "completed"
    },
    "tags": []
   },
   "outputs": [
    {
     "data": {
      "text/html": [
       "<div>\n",
       "<style scoped>\n",
       "    .dataframe tbody tr th:only-of-type {\n",
       "        vertical-align: middle;\n",
       "    }\n",
       "\n",
       "    .dataframe tbody tr th {\n",
       "        vertical-align: top;\n",
       "    }\n",
       "\n",
       "    .dataframe thead th {\n",
       "        text-align: right;\n",
       "    }\n",
       "</style>\n",
       "<table border=\"1\" class=\"dataframe\">\n",
       "  <thead>\n",
       "    <tr style=\"text-align: right;\">\n",
       "      <th></th>\n",
       "      <th>dataset</th>\n",
       "      <th>tissue_type</th>\n",
       "      <th>age</th>\n",
       "      <th>gender</th>\n",
       "    </tr>\n",
       "  </thead>\n",
       "  <tbody>\n",
       "    <tr>\n",
       "      <th>8363800025_R04C02</th>\n",
       "      <td>E-MTAB-2372</td>\n",
       "      <td>blood wbc</td>\n",
       "      <td>37.0</td>\n",
       "      <td>F</td>\n",
       "    </tr>\n",
       "    <tr>\n",
       "      <th>8363800056_R01C02</th>\n",
       "      <td>E-MTAB-2372</td>\n",
       "      <td>blood wbc</td>\n",
       "      <td>50.0</td>\n",
       "      <td>M</td>\n",
       "    </tr>\n",
       "    <tr>\n",
       "      <th>8363800057_R02C02</th>\n",
       "      <td>E-MTAB-2372</td>\n",
       "      <td>blood wbc</td>\n",
       "      <td>68.0</td>\n",
       "      <td>F</td>\n",
       "    </tr>\n",
       "    <tr>\n",
       "      <th>8359018119_R06C01</th>\n",
       "      <td>E-MTAB-2372</td>\n",
       "      <td>blood wbc</td>\n",
       "      <td>43.0</td>\n",
       "      <td>F</td>\n",
       "    </tr>\n",
       "    <tr>\n",
       "      <th>8363800025_R06C01</th>\n",
       "      <td>E-MTAB-2372</td>\n",
       "      <td>blood wbc</td>\n",
       "      <td>43.0</td>\n",
       "      <td>F</td>\n",
       "    </tr>\n",
       "  </tbody>\n",
       "</table>\n",
       "</div>"
      ],
      "text/plain": [
       "                       dataset tissue_type   age gender\n",
       "8363800025_R04C02  E-MTAB-2372   blood wbc  37.0      F\n",
       "8363800056_R01C02  E-MTAB-2372   blood wbc  50.0      M\n",
       "8363800057_R02C02  E-MTAB-2372   blood wbc  68.0      F\n",
       "8359018119_R06C01  E-MTAB-2372   blood wbc  43.0      F\n",
       "8363800025_R06C01  E-MTAB-2372   blood wbc  43.0      F"
      ]
     },
     "execution_count": 17,
     "metadata": {},
     "output_type": "execute_result"
    }
   ],
   "source": [
    "reference_metadata_df = pd.read_feather(REFERENCE_METADATA_PATH)\n",
    "\n",
    "reference_metadata_df.head()"
   ]
  },
  {
   "cell_type": "markdown",
   "id": "f9811d75",
   "metadata": {
    "papermill": {
     "duration": 0.006784,
     "end_time": "2025-03-31T09:47:41.841778",
     "exception": false,
     "start_time": "2025-03-31T09:47:41.834994",
     "status": "completed"
    },
    "tags": []
   },
   "source": [
    "### 7.2 Find Nearest Neighbors"
   ]
  },
  {
   "cell_type": "code",
   "execution_count": 82,
   "id": "850a1648",
   "metadata": {
    "execution": {
     "iopub.execute_input": "2025-03-31T09:47:41.856347Z",
     "iopub.status.busy": "2025-03-31T09:47:41.855861Z",
     "iopub.status.idle": "2025-03-31T09:47:42.014847Z",
     "shell.execute_reply": "2025-03-31T09:47:42.014221Z"
    },
    "papermill": {
     "duration": 0.166909,
     "end_time": "2025-03-31T09:47:42.015545",
     "exception": true,
     "start_time": "2025-03-31T09:47:41.848636",
     "status": "failed"
    },
    "tags": []
   },
   "outputs": [
    {
     "data": {
      "application/vnd.jupyter.widget-view+json": {
       "model_id": "11e8672094bd4444a28c66a4990a26bc",
       "version_major": 2,
       "version_minor": 0
      },
      "text/plain": [
       "Output()"
      ]
     },
     "metadata": {},
     "output_type": "display_data"
    },
    {
     "data": {
      "text/html": [
       "<pre style=\"white-space:pre;overflow-x:auto;line-height:normal;font-family:Menlo,'DejaVu Sans Mono',consolas,'Courier New',monospace\"></pre>\n"
      ],
      "text/plain": []
     },
     "metadata": {},
     "output_type": "display_data"
    }
   ],
   "source": [
    "# Define parameters\n",
    "k = 5  # Number of nearest neighbors to consider\n",
    "\n",
    "# Create FAISS index for efficient similarity search\n",
    "index = faiss.IndexFlatL2(reference_sample_embeddings.shape[1])\n",
    "index.add(reference_sample_embeddings)\n",
    "\n",
    "# Find k nearest neighbors for each target sample\n",
    "distances, indices = index.search(target_sample_embeddings, k)\n",
    "\n",
    "# Prepare for label mapping\n",
    "labels_to_predict = reference_metadata_df.columns.tolist()\n",
    "mapped_labels = {label: [] for label in labels_to_predict}\n",
    "\n",
    "# Process each target sample\n",
    "for i in tqdm(range(target_sample_embeddings.shape[0])):\n",
    "\n",
    "    for label in labels_to_predict:\n",
    "        # Extract values from nearest neighbors\n",
    "        neighbor_values = reference_metadata_df[label].iloc[indices[i]]\n",
    "        \n",
    "        if pd.api.types.is_float_dtype(neighbor_values):\n",
    "            # Numerical values: use mean\n",
    "            mapped_labels[label].append(neighbor_values.mean())\n",
    "        else:\n",
    "            # Categorical values: use majority vote\n",
    "            if neighbor_values.isna().all() or len(neighbor_values) == 0:\n",
    "                # If all values are None or empty, append None\n",
    "                mapped_labels[label].append(None)\n",
    "            else:\n",
    "                value_counts = neighbor_values.value_counts()\n",
    "                if len(value_counts) > 0:\n",
    "                    most_common_value = value_counts.index[0]  # First value in case of ties\n",
    "                    mapped_labels[label].append(most_common_value)\n",
    "                else:\n",
    "                    mapped_labels[label].append(None)\n",
    "\n",
    "# Create final DataFrame with mapped labels\n",
    "mapped_labels_df = pd.DataFrame(mapped_labels, index=target_metadata_df.index)"
   ]
  },
  {
   "cell_type": "code",
   "execution_count": 84,
   "id": "3147fc35",
   "metadata": {
    "papermill": {
     "duration": null,
     "end_time": null,
     "exception": null,
     "start_time": null,
     "status": "pending"
    },
    "tags": []
   },
   "outputs": [
    {
     "data": {
      "text/html": [
       "<div>\n",
       "<style scoped>\n",
       "    .dataframe tbody tr th:only-of-type {\n",
       "        vertical-align: middle;\n",
       "    }\n",
       "\n",
       "    .dataframe tbody tr th {\n",
       "        vertical-align: top;\n",
       "    }\n",
       "\n",
       "    .dataframe thead th {\n",
       "        text-align: right;\n",
       "    }\n",
       "</style>\n",
       "<table border=\"1\" class=\"dataframe\">\n",
       "  <thead>\n",
       "    <tr style=\"text-align: right;\">\n",
       "      <th></th>\n",
       "      <th>dataset</th>\n",
       "      <th>tissue_type</th>\n",
       "      <th>age</th>\n",
       "      <th>gender</th>\n",
       "    </tr>\n",
       "    <tr>\n",
       "      <th>title</th>\n",
       "      <th></th>\n",
       "      <th></th>\n",
       "      <th></th>\n",
       "      <th></th>\n",
       "    </tr>\n",
       "  </thead>\n",
       "  <tbody>\n",
       "    <tr>\n",
       "      <th>Human embryonic stem cell H9</th>\n",
       "      <td>GSE36642</td>\n",
       "      <td>blood cord</td>\n",
       "      <td>-0.095890</td>\n",
       "      <td>F</td>\n",
       "    </tr>\n",
       "    <tr>\n",
       "      <th>Beta cell from human islet 1</th>\n",
       "      <td>GSE36642</td>\n",
       "      <td>blood cord</td>\n",
       "      <td>8.146301</td>\n",
       "      <td>M</td>\n",
       "    </tr>\n",
       "    <tr>\n",
       "      <th>Beta cell from human islet 2</th>\n",
       "      <td>GSE22595</td>\n",
       "      <td>dermis</td>\n",
       "      <td>40.000000</td>\n",
       "      <td>M</td>\n",
       "    </tr>\n",
       "    <tr>\n",
       "      <th>Reprogrammed beta cell 1</th>\n",
       "      <td>GSE36642</td>\n",
       "      <td>blood cord</td>\n",
       "      <td>-0.095890</td>\n",
       "      <td>M</td>\n",
       "    </tr>\n",
       "    <tr>\n",
       "      <th>Reprogrammed beta cell 2</th>\n",
       "      <td>GSE36642</td>\n",
       "      <td>blood cord</td>\n",
       "      <td>-0.076712</td>\n",
       "      <td>M</td>\n",
       "    </tr>\n",
       "  </tbody>\n",
       "</table>\n",
       "</div>"
      ],
      "text/plain": [
       "                               dataset tissue_type        age gender\n",
       "title                                                               \n",
       "Human embryonic stem cell H9  GSE36642  blood cord  -0.095890      F\n",
       "Beta cell from human islet 1  GSE36642  blood cord   8.146301      M\n",
       "Beta cell from human islet 2  GSE22595      dermis  40.000000      M\n",
       "Reprogrammed beta cell 1      GSE36642  blood cord  -0.095890      M\n",
       "Reprogrammed beta cell 2      GSE36642  blood cord  -0.076712      M"
      ]
     },
     "execution_count": 84,
     "metadata": {},
     "output_type": "execute_result"
    }
   ],
   "source": [
    "mapped_labels_df.head()"
   ]
  }
 ],
 "metadata": {
  "kernelspec": {
   "display_name": "cpgpt",
   "language": "python",
   "name": "python3"
  },
  "language_info": {
   "codemirror_mode": {
    "name": "ipython",
    "version": 3
   },
   "file_extension": ".py",
   "mimetype": "text/x-python",
   "name": "python",
   "nbconvert_exporter": "python",
   "pygments_lexer": "ipython3",
   "version": "3.12.8"
  },
  "papermill": {
   "default_parameters": {},
   "duration": 50.820106,
   "end_time": "2025-03-31T09:47:46.741485",
   "environment_variables": {},
   "exception": true,
   "input_path": "reference_map.ipynb",
   "output_path": "reference_map.ipynb",
   "parameters": {},
   "start_time": "2025-03-31T09:46:55.921379",
   "version": "2.6.0"
  },
  "widgets": {
   "application/vnd.jupyter.widget-state+json": {
    "state": {
     "03b98b9c01444efebca082d782981bc4": {
      "model_module": "@jupyter-widgets/base",
      "model_module_version": "2.0.0",
      "model_name": "LayoutModel",
      "state": {
       "_model_module": "@jupyter-widgets/base",
       "_model_module_version": "2.0.0",
       "_model_name": "LayoutModel",
       "_view_count": null,
       "_view_module": "@jupyter-widgets/base",
       "_view_module_version": "2.0.0",
       "_view_name": "LayoutView",
       "align_content": null,
       "align_items": null,
       "align_self": null,
       "border_bottom": null,
       "border_left": null,
       "border_right": null,
       "border_top": null,
       "bottom": null,
       "display": null,
       "flex": null,
       "flex_flow": null,
       "grid_area": null,
       "grid_auto_columns": null,
       "grid_auto_flow": null,
       "grid_auto_rows": null,
       "grid_column": null,
       "grid_gap": null,
       "grid_row": null,
       "grid_template_areas": null,
       "grid_template_columns": null,
       "grid_template_rows": null,
       "height": null,
       "justify_content": null,
       "justify_items": null,
       "left": null,
       "margin": null,
       "max_height": null,
       "max_width": null,
       "min_height": null,
       "min_width": null,
       "object_fit": null,
       "object_position": null,
       "order": null,
       "overflow": null,
       "padding": null,
       "right": null,
       "top": null,
       "visibility": null,
       "width": null
      }
     },
     "4e2cd906a01843f482f99558ed02d638": {
      "model_module": "@jupyter-widgets/output",
      "model_module_version": "1.0.0",
      "model_name": "OutputModel",
      "state": {
       "_dom_classes": [],
       "_model_module": "@jupyter-widgets/output",
       "_model_module_version": "1.0.0",
       "_model_name": "OutputModel",
       "_view_count": null,
       "_view_module": "@jupyter-widgets/output",
       "_view_module_version": "1.0.0",
       "_view_name": "OutputView",
       "layout": "IPY_MODEL_03b98b9c01444efebca082d782981bc4",
       "msg_id": "",
       "outputs": [
        {
         "data": {
          "text/html": "<pre style=\"white-space:pre;overflow-x:auto;line-height:normal;font-family:Menlo,'DejaVu Sans Mono',consolas,'Courier New',monospace\">Predicting <span style=\"color: #6206e0; text-decoration-color: #6206e0\">━━━━━━━━━━━━━━━━━━━━━━━━━━━━━━━━━━━━━━━━</span> 13/13 <span style=\"color: #7f7f7f; text-decoration-color: #7f7f7f\">0:00:02 • 0:00:00</span> <span style=\"color: #7f7f7f; text-decoration-color: #7f7f7f; text-decoration: underline\">5.07it/s</span>  \n</pre>\n",
          "text/plain": "Predicting \u001b[38;2;98;6;224m━━━━━━━━━━━━━━━━━━━━━━━━━━━━━━━━━━━━━━━━\u001b[0m 13/13 \u001b[2m0:00:02 • 0:00:00\u001b[0m \u001b[2;4m5.07it/s\u001b[0m  \n"
         },
         "metadata": {},
         "output_type": "display_data"
        }
       ],
       "tabbable": null,
       "tooltip": null
      }
     }
    },
    "version_major": 2,
    "version_minor": 0
   }
  }
 },
 "nbformat": 4,
 "nbformat_minor": 5
}
